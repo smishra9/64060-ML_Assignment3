{
  "nbformat": 4,
  "nbformat_minor": 0,
  "metadata": {
    "colab": {
      "name": "ML Assignment 4 ( Pharma)",
      "provenance": [],
      "collapsed_sections": []
    },
    "kernelspec": {
      "name": "python3",
      "display_name": "Python 3"
    },
    "language_info": {
      "name": "python"
    }
  },
  "cells": [
    {
      "cell_type": "code",
      "metadata": {
        "colab": {
          "resources": {
            "http://localhost:8080/nbextensions/google.colab/files.js": {
              "data": "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",
              "ok": true,
              "headers": [
                [
                  "content-type",
                  "application/javascript"
                ]
              ],
              "status": 200,
              "status_text": ""
            }
          },
          "base_uri": "https://localhost:8080/",
          "height": 310
        },
        "id": "3u-J5bAcDKW2",
        "outputId": "1a74fb74-ed4e-4700-8918-0daeb49da9c6"
      },
      "source": [
        "import pandas as pd\n",
        "\n",
        "from google.colab import files\n",
        "uploaded = files.upload()\n",
        "import io\n",
        "\n",
        "df = pd.read_csv(('Pharmaceuticals.csv'), index_col=0)\n",
        "df.count()"
      ],
      "execution_count": 33,
      "outputs": [
        {
          "output_type": "display_data",
          "data": {
            "text/html": [
              "\n",
              "     <input type=\"file\" id=\"files-51cd7177-64c0-4399-82d4-a5e5935578c1\" name=\"files[]\" multiple disabled\n",
              "        style=\"border:none\" />\n",
              "     <output id=\"result-51cd7177-64c0-4399-82d4-a5e5935578c1\">\n",
              "      Upload widget is only available when the cell has been executed in the\n",
              "      current browser session. Please rerun this cell to enable.\n",
              "      </output>\n",
              "      <script src=\"/nbextensions/google.colab/files.js\"></script> "
            ],
            "text/plain": [
              "<IPython.core.display.HTML object>"
            ]
          },
          "metadata": {
            "tags": []
          }
        },
        {
          "output_type": "stream",
          "text": [
            "Saving Pharmaceuticals.csv to Pharmaceuticals (1).csv\n"
          ],
          "name": "stdout"
        },
        {
          "output_type": "execute_result",
          "data": {
            "text/plain": [
              "Name                     21\n",
              "Market_Cap               21\n",
              "Beta                     21\n",
              "PE_Ratio                 21\n",
              "ROE                      21\n",
              "ROA                      21\n",
              "Asset_Turnover           21\n",
              "Leverage                 21\n",
              "Rev_Growth               21\n",
              "Net_Profit_Margin        21\n",
              "Median_Recommendation    21\n",
              "Location                 21\n",
              "Exchange                 21\n",
              "dtype: int64"
            ]
          },
          "metadata": {
            "tags": []
          },
          "execution_count": 33
        }
      ]
    },
    {
      "cell_type": "markdown",
      "metadata": {
        "id": "2mUoiYxKDrJi"
      },
      "source": [
        "\n",
        "(A).Using the numerical variables (1 to 9) for clustering the 21 firms. Justifying the various choices made in conducting the cluster analysis, such as weights for different variables, the specific clustering algorithm(s) used, the number of clusters formed, and so on."
      ]
    },
    {
      "cell_type": "code",
      "metadata": {
        "colab": {
          "base_uri": "https://localhost:8080/",
          "height": 279
        },
        "id": "9ltndeNsDilf",
        "outputId": "6e317ece-c719-401c-f339-b4b609c561bb"
      },
      "source": [
        "#Collecting quantitative variables (1-9) for clustering the 21 firms\n",
        "df.head()\n",
        "#Pharma_data = df[]\n",
        "col_val=[i for i in range(1,10)]\n",
        "col_val\n",
        "Pharma_data = df[df.columns[col_val]]\n",
        "Pharma_data.count()\n",
        "#Scaling all the quantitative variables in the dataframe.\n",
        "from sklearn import preprocessing\n",
        "Pharma_data_Norm = Pharma_data.apply(preprocessing.scale, axis=0)\n",
        "#Comment: Choosing the value of (k)\n",
        "import matplotlib.pyplot as plt\n",
        "from sklearn.cluster import KMeans\n",
        "\n",
        "Sum_of_squared_distances = []\n",
        "for i in range(2,len(Pharma_data_Norm.index)):\n",
        "  km = KMeans(n_clusters=i,init ='k-means++', max_iter=400, n_init=10,random_state=0 )\n",
        "  km = km.fit(Pharma_data_Norm)\n",
        "  Sum_of_squared_distances.append(km.inertia_)\n",
        "K_values= range(2,len(Pharma_data_Norm.index))\n",
        "plt.plot(K_values, Sum_of_squared_distances, 'bx-')\n",
        "plt.xlabel('Values for K')\n",
        "plt.ylabel('Sum_of_squared_distances')\n",
        "plt.show()"
      ],
      "execution_count": 35,
      "outputs": [
        {
          "output_type": "display_data",
          "data": {
            "image/png": "[encoded data removed]",
            "text/plain": [
              "<Figure size 432x288 with 1 Axes>"
            ]
          },
          "metadata": {
            "tags": [],
            "needs_background": "light"
          }
        }
      ]
    },
    {
      "cell_type": "code",
      "metadata": {
        "colab": {
          "base_uri": "https://localhost:8080/",
          "height": 268
        },
        "id": "7zIIQxTdG9wu",
        "outputId": "4bcd59d0-9e2a-4700-e1c9-1fab411ddc41"
      },
      "source": [
        "#K-Means Cluster Analysis - Fitting the data within 6 clusters\n",
        "import numpy as np\n",
        "means=KMeans(n_clusters=6,init ='k-means++', max_iter=400, n_init=10,random_state=0 )\n",
        "datafit = means.fit_predict(Pharma_data_Norm)\n",
        "import pandas as pd\n",
        "Pharma_data_Norm[\"Cluster\"]= (datafit)\n",
        "N_data=Pharma_data_Norm.values\n",
        "import matplotlib.pyplot as plt\n",
        "#6 Visualising all the clusters\n",
        "for i in range(6):\n",
        "    plt.scatter(N_data[datafit==i, 0], N_data[datafit==i, 1],s=100, label =('Cluster '+str(i+1)))\n",
        "plt.scatter(means.cluster_centers_[:, 0], means.cluster_centers_[:, 1], s=25, c='black', label = 'Centroids')\n",
        "plt.legend()\n",
        "plt.show()"
      ],
      "execution_count": 36,
      "outputs": [
        {
          "output_type": "display_data",
          "data": {
            "image/png": "[encoded data removed]",
            "text/plain": [
              "<Figure size 432x288 with 1 Axes>"
            ]
          },
          "metadata": {
            "tags": [],
            "needs_background": "light"
          }
        }
      ]
    },
    {
      "cell_type": "markdown",
      "metadata": {
        "id": "Rs3AzO64IEMZ"
      },
      "source": [
        "(B) Interpreting the clusters according to the numerical variables used in the formation of the clusters."
      ]
    },
    {
      "cell_type": "code",
      "metadata": {
        "colab": {
          "base_uri": "https://localhost:8080/",
          "height": 368
        },
        "id": "l58MDAbNIOmA",
        "outputId": "b032e097-b417-48b7-b112-467a2d1d6771"
      },
      "source": [
        "Data= Pharma_data_Norm.groupby('Cluster')\n",
        "Data=Data.groups\n",
        "#Showing each index as per the cluster\n",
        "for i in Data:\n",
        "  print('Cluster'+str(i+1)+':'+str(Data[i]))\n",
        "#Analyzing each cluster individually  \n",
        "Data= Pharma_data_Norm.groupby('Cluster').agg('mean')\n",
        "Data"
      ],
      "execution_count": 37,
      "outputs": [
        {
          "output_type": "stream",
          "text": [
            "Cluster1:Index(['ABT', 'AHM', 'AZN', 'BMY', 'LLY', 'NVS', 'SGP', 'WYE'], dtype='object', name='Symbol')\n",
            "Cluster2:Index(['AVE', 'ELN', 'IVX', 'MRX', 'WPI'], dtype='object', name='Symbol')\n",
            "Cluster3:Index(['AGN', 'PHA'], dtype='object', name='Symbol')\n",
            "Cluster4:Index(['GSK', 'JNJ', 'MRK', 'PFE'], dtype='object', name='Symbol')\n",
            "Cluster5:Index(['BAY'], dtype='object', name='Symbol')\n",
            "Cluster6:Index(['CHTT'], dtype='object', name='Symbol')\n"
          ],
          "name": "stdout"
        },
        {
          "output_type": "execute_result",
          "data": {
            "text/html": [
              "<div>\n",
              "<style scoped>\n",
              "    .dataframe tbody tr th:only-of-type {\n",
              "        vertical-align: middle;\n",
              "    }\n",
              "\n",
              "    .dataframe tbody tr th {\n",
              "        vertical-align: top;\n",
              "    }\n",
              "\n",
              "    .dataframe thead th {\n",
              "        text-align: right;\n",
              "    }\n",
              "</style>\n",
              "<table border=\"1\" class=\"dataframe\">\n",
              "  <thead>\n",
              "    <tr style=\"text-align: right;\">\n",
              "      <th></th>\n",
              "      <th>Market_Cap</th>\n",
              "      <th>Beta</th>\n",
              "      <th>PE_Ratio</th>\n",
              "      <th>ROE</th>\n",
              "      <th>ROA</th>\n",
              "      <th>Asset_Turnover</th>\n",
              "      <th>Leverage</th>\n",
              "      <th>Rev_Growth</th>\n",
              "      <th>Net_Profit_Margin</th>\n",
              "    </tr>\n",
              "    <tr>\n",
              "      <th>Cluster</th>\n",
              "      <th></th>\n",
              "      <th></th>\n",
              "      <th></th>\n",
              "      <th></th>\n",
              "      <th></th>\n",
              "      <th></th>\n",
              "      <th></th>\n",
              "      <th></th>\n",
              "      <th></th>\n",
              "    </tr>\n",
              "  </thead>\n",
              "  <tbody>\n",
              "    <tr>\n",
              "      <th>0</th>\n",
              "      <td>-0.032198</td>\n",
              "      <td>-0.446868</td>\n",
              "      <td>-0.325083</td>\n",
              "      <td>0.199863</td>\n",
              "      <td>0.418477</td>\n",
              "      <td>0.177246</td>\n",
              "      <td>-0.281272</td>\n",
              "      <td>-0.721541</td>\n",
              "      <td>0.570708</td>\n",
              "    </tr>\n",
              "    <tr>\n",
              "      <th>1</th>\n",
              "      <td>-0.815718</td>\n",
              "      <td>0.328416</td>\n",
              "      <td>-0.461257</td>\n",
              "      <td>-0.669448</td>\n",
              "      <td>-0.807657</td>\n",
              "      <td>-1.134376</td>\n",
              "      <td>0.278415</td>\n",
              "      <td>1.255886</td>\n",
              "      <td>-0.152288</td>\n",
              "    </tr>\n",
              "    <tr>\n",
              "      <th>2</th>\n",
              "      <td>-0.450099</td>\n",
              "      <td>-0.481791</td>\n",
              "      <td>2.766702</td>\n",
              "      <td>-0.855572</td>\n",
              "      <td>-0.946301</td>\n",
              "      <td>0.236328</td>\n",
              "      <td>-0.145203</td>\n",
              "      <td>-0.119731</td>\n",
              "      <td>-1.451496</td>\n",
              "    </tr>\n",
              "    <tr>\n",
              "      <th>3</th>\n",
              "      <td>1.737454</td>\n",
              "      <td>-0.182453</td>\n",
              "      <td>-0.203359</td>\n",
              "      <td>1.265486</td>\n",
              "      <td>1.383690</td>\n",
              "      <td>1.181641</td>\n",
              "      <td>-0.479637</td>\n",
              "      <td>0.478716</td>\n",
              "      <td>0.605843</td>\n",
              "    </tr>\n",
              "    <tr>\n",
              "      <th>4</th>\n",
              "      <td>-0.712554</td>\n",
              "      <td>2.331983</td>\n",
              "      <td>0.153174</td>\n",
              "      <td>-1.487304</td>\n",
              "      <td>-1.755058</td>\n",
              "      <td>-0.472657</td>\n",
              "      <td>-0.768169</td>\n",
              "      <td>-1.534116</td>\n",
              "      <td>-2.044884</td>\n",
              "    </tr>\n",
              "    <tr>\n",
              "      <th>5</th>\n",
              "      <td>-1.000888</td>\n",
              "      <td>1.294279</td>\n",
              "      <td>0.033806</td>\n",
              "      <td>-0.115154</td>\n",
              "      <td>-1.196630</td>\n",
              "      <td>-0.472657</td>\n",
              "      <td>3.835226</td>\n",
              "      <td>-0.648387</td>\n",
              "      <td>-1.279725</td>\n",
              "    </tr>\n",
              "  </tbody>\n",
              "</table>\n",
              "</div>"
            ],
            "text/plain": [
              "         Market_Cap      Beta  ...  Rev_Growth  Net_Profit_Margin\n",
              "Cluster                        ...                               \n",
              "0         -0.032198 -0.446868  ...   -0.721541           0.570708\n",
              "1         -0.815718  0.328416  ...    1.255886          -0.152288\n",
              "2         -0.450099 -0.481791  ...   -0.119731          -1.451496\n",
              "3          1.737454 -0.182453  ...    0.478716           0.605843\n",
              "4         -0.712554  2.331983  ...   -1.534116          -2.044884\n",
              "5         -1.000888  1.294279  ...   -0.648387          -1.279725\n",
              "\n",
              "[6 rows x 9 columns]"
            ]
          },
          "metadata": {
            "tags": []
          },
          "execution_count": 37
        }
      ]
    },
    {
      "cell_type": "markdown",
      "metadata": {
        "id": "Tog8TUSAJXM6"
      },
      "source": [
        "Answer: The lowest leverage,lowest ROA, lowest Net Profit Margin, lowest Rev Growth, Highest Beta : Cluster 5\n",
        "The highest PE ratio, lowest ROE , lowest Beta: Cluster 3\n",
        "The lowest Asset Turnover,lowest PE Ratio, Highest Rev Growth : Cluster 2\n",
        "The highest Market Cap,highest ROE, highest ROA,highest Asset Turnover,highest net profit margin : Cluster 4\n",
        "The highest Leverage, lowest market cap: Cluster 6\n",
        "\n",
        "\n",
        "---\n",
        "\n"
      ]
    },
    {
      "cell_type": "markdown",
      "metadata": {
        "id": "UD0m9GJ6RxuQ"
      },
      "source": [
        ""
      ]
    },
    {
      "cell_type": "markdown",
      "metadata": {
        "id": "ogiGVpCRJpNi"
      },
      "source": [
        "(C) Governing about the pattern in the clusters with respect to the numerical variables (10 to 12):\n",
        "Answer: In terms of Media Recommendation Component, there is a trend in the clusters. \n",
        "Cluster 4: Recommendations with the highest Net Profit Margin, lowest Beta, lowest PE Ratio, and lowest Rev Growth. \n",
        "Cluster 3 : the most powerful. Cluster 3 is mainly made up of buy recommendations, with one in particular standing out.\n",
        "Cluster 2 : the highest PE ratio, lowest ROE, lowest ROA, lowest Asset Turnover, and lowest Net Profit Margin, with mainly Hold recommendations.\n"
      ]
    },
    {
      "cell_type": "markdown",
      "metadata": {
        "id": "2EwZE92URzNv"
      },
      "source": [
        "(D)Providing appropriate names for each cluster using any or all of the variables in the dataset.\n",
        "Answer: Based on the quantitative variable dependency, different clusters can be defined. As can be seen in the scatter plot above. \n",
        "Cluster 2 - The lowest Asset Turnover,lowest PE Ratio, Highest Rev Growth\n",
        "Cluster 3 - The highest PE ratio, lowest ROE , lowest Beta\n",
        "Cluster 4 - The highest Market Cap,highest ROE, highest ROA,highest Asset Turnover,highest net profit margin\n",
        "Cluster 5 - The lowest leverage,lowest ROA, lowest Net Profit Margin, lowest Rev Growth, Highest Beta\n",
        "Cluster 6 - The highest Leverage, lowest market cap"
      ]
    }
  ]
}